{
 "cells": [
  {
   "cell_type": "code",
   "execution_count": 82,
   "metadata": {},
   "outputs": [],
   "source": [
    "import pandas as pd"
   ]
  },
  {
   "cell_type": "code",
   "execution_count": 83,
   "metadata": {},
   "outputs": [],
   "source": [
    "df = pd.read_csv('rappers.csv')\n",
    "\n",
    "drops = ['Unnamed: 0', 'index']\n",
    "df = df.drop(drops, axis = 1)"
   ]
  },
  {
   "cell_type": "code",
   "execution_count": 84,
   "metadata": {},
   "outputs": [
    {
     "data": {
      "text/plain": [
       "(3148, 5)"
      ]
     },
     "execution_count": 84,
     "metadata": {},
     "output_type": "execute_result"
    }
   ],
   "source": [
    "df.shape"
   ]
  },
  {
   "cell_type": "code",
   "execution_count": 85,
   "metadata": {},
   "outputs": [
    {
     "data": {
      "text/html": [
       "<div>\n",
       "<style scoped>\n",
       "    .dataframe tbody tr th:only-of-type {\n",
       "        vertical-align: middle;\n",
       "    }\n",
       "\n",
       "    .dataframe tbody tr th {\n",
       "        vertical-align: top;\n",
       "    }\n",
       "\n",
       "    .dataframe thead th {\n",
       "        text-align: right;\n",
       "    }\n",
       "</style>\n",
       "<table border=\"1\" class=\"dataframe\">\n",
       "  <thead>\n",
       "    <tr style=\"text-align: right;\">\n",
       "      <th></th>\n",
       "      <th>song</th>\n",
       "      <th>year</th>\n",
       "      <th>artist</th>\n",
       "      <th>genre</th>\n",
       "      <th>lyrics</th>\n",
       "    </tr>\n",
       "  </thead>\n",
       "  <tbody>\n",
       "    <tr>\n",
       "      <th>0</th>\n",
       "      <td>the-invitation</td>\n",
       "      <td>2009</td>\n",
       "      <td>50-cent</td>\n",
       "      <td>Hip-Hop</td>\n",
       "      <td>I had five hundred grams in fifty-fifty-eight ...</td>\n",
       "    </tr>\n",
       "    <tr>\n",
       "      <th>1</th>\n",
       "      <td>better-come-on-your-a-game</td>\n",
       "      <td>2009</td>\n",
       "      <td>50-cent</td>\n",
       "      <td>Hip-Hop</td>\n",
       "      <td>[Chorus: 50 Cent]\\nNigga try and come play me\\...</td>\n",
       "    </tr>\n",
       "    <tr>\n",
       "      <th>2</th>\n",
       "      <td>longon-girl-2</td>\n",
       "      <td>2009</td>\n",
       "      <td>50-cent</td>\n",
       "      <td>Hip-Hop</td>\n",
       "      <td>{DAMN!}\\n[Intro: {DJ Whoo KidDJ Whoo Kid}]\\nUh...</td>\n",
       "    </tr>\n",
       "    <tr>\n",
       "      <th>3</th>\n",
       "      <td>hard-rock</td>\n",
       "      <td>2009</td>\n",
       "      <td>50-cent</td>\n",
       "      <td>Hip-Hop</td>\n",
       "      <td>[Ester Dean]\\nHere we go ready hard rock\\nHere...</td>\n",
       "    </tr>\n",
       "    <tr>\n",
       "      <th>4</th>\n",
       "      <td>i-line-niggas</td>\n",
       "      <td>2009</td>\n",
       "      <td>50-cent</td>\n",
       "      <td>Hip-Hop</td>\n",
       "      <td>[Intro]\\nI'm tryin to tell you but you won't h...</td>\n",
       "    </tr>\n",
       "  </tbody>\n",
       "</table>\n",
       "</div>"
      ],
      "text/plain": [
       "                         song  year   artist    genre  \\\n",
       "0              the-invitation  2009  50-cent  Hip-Hop   \n",
       "1  better-come-on-your-a-game  2009  50-cent  Hip-Hop   \n",
       "2               longon-girl-2  2009  50-cent  Hip-Hop   \n",
       "3                   hard-rock  2009  50-cent  Hip-Hop   \n",
       "4               i-line-niggas  2009  50-cent  Hip-Hop   \n",
       "\n",
       "                                              lyrics  \n",
       "0  I had five hundred grams in fifty-fifty-eight ...  \n",
       "1  [Chorus: 50 Cent]\\nNigga try and come play me\\...  \n",
       "2  {DAMN!}\\n[Intro: {DJ Whoo KidDJ Whoo Kid}]\\nUh...  \n",
       "3  [Ester Dean]\\nHere we go ready hard rock\\nHere...  \n",
       "4  [Intro]\\nI'm tryin to tell you but you won't h...  "
      ]
     },
     "execution_count": 85,
     "metadata": {},
     "output_type": "execute_result"
    }
   ],
   "source": [
    "df.head()"
   ]
  },
  {
   "cell_type": "code",
   "execution_count": 86,
   "metadata": {},
   "outputs": [
    {
     "data": {
      "text/plain": [
       "['50-cent', 'e-40', 'chris-brown', '2pac', 'chief-keef', 'drake', 'eminem']"
      ]
     },
     "execution_count": 86,
     "metadata": {},
     "output_type": "execute_result"
    }
   ],
   "source": [
    "list(df['artist'].unique())"
   ]
  },
  {
   "cell_type": "code",
   "execution_count": 87,
   "metadata": {},
   "outputs": [],
   "source": [
    "# Make dataframes for rappers\n",
    "\n",
    "fitty_df = df[df['artist'] == '50-cent']   \n",
    "e_40_df = df[df['artist'] == 'e-40']   \n",
    "chris_brown_df = df[df['artist'] == 'chris-brown']\n",
    "tupac_df = df[df['artist'] == '2pac']\n",
    "keef_df = df[df['artist'] == 'chief-keef']\n",
    "drake_df = df[df['artist'] == 'drake']\n",
    "eminem_df = df[df['artist'] == 'eminem']"
   ]
  },
  {
   "cell_type": "code",
   "execution_count": null,
   "metadata": {},
   "outputs": [],
   "source": []
  },
  {
   "cell_type": "code",
   "execution_count": null,
   "metadata": {},
   "outputs": [],
   "source": []
  },
  {
   "cell_type": "code",
   "execution_count": null,
   "metadata": {},
   "outputs": [],
   "source": []
  }
 ],
 "metadata": {
  "kernelspec": {
   "display_name": "Python 3",
   "language": "python",
   "name": "python3"
  },
  "language_info": {
   "codemirror_mode": {
    "name": "ipython",
    "version": 3
   },
   "file_extension": ".py",
   "mimetype": "text/x-python",
   "name": "python",
   "nbconvert_exporter": "python",
   "pygments_lexer": "ipython3",
   "version": "3.7.3"
  }
 },
 "nbformat": 4,
 "nbformat_minor": 2
}
