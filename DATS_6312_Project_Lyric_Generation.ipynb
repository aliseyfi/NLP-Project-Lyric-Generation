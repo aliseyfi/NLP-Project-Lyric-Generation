{
 "cells": [
  {
   "cell_type": "code",
   "execution_count": 6,
   "metadata": {},
   "outputs": [
    {
     "name": "stdout",
     "output_type": "stream",
     "text": [
      "writing to .csv\n"
     ]
    }
   ],
   "source": [
    "#%%\n",
    "# Import packages\n",
    "import urllib.request as urllib2\n",
    "from bs4 import BeautifulSoup\n",
    "import pandas as pd\n",
    "import re\n",
    "from unidecode import unidecode\n",
    "\n",
    "#%%\n",
    "# Section 1: Scraping the lyrics\n",
    "quote_page = 'http://metrolyrics.com/{}-lyrics-drake.html'\n",
    "filename = 'songs.csv'\n",
    "songs = pd.read_csv(filename)\n",
    "\n",
    "for index, row in songs.iterrows():\n",
    "    page = urllib2.urlopen(quote_page.format(row['song']))\n",
    "    soup = BeautifulSoup(page, 'html.parser')\n",
    "    verses = soup.find_all('p', attrs={'class': 'verse'})\n",
    "\n",
    "    lyrics = ''\n",
    "\n",
    "    for verse in verses:\n",
    "        text = verse.text.strip()\n",
    "        text = re.sub(r\"\\[.*\\]\\n\", \"\", unidecode(text))\n",
    "        if lyrics == '':\n",
    "            lyrics = lyrics + text.replace('\\n', '|-|')\n",
    "        else:\n",
    "            lyrics = lyrics + '|-|' + text.replace('\\n', '|-|')\n",
    "\n",
    "    songs.at[index, 'lyrics'] = lyrics\n",
    "\n",
    "    print('saving {}'.format(row['song']))\n",
    "    songs.head()\n",
    "\n",
    "print('writing to .csv')\n",
    "songs.to_csv(filename, sep=',', encoding='utf-8')"
   ]
  },
  {
   "cell_type": "code",
   "execution_count": null,
   "metadata": {},
   "outputs": [],
   "source": [
    "#%%\n",
    "# Section 2: Data Preprocessing\n"
   ]
  }
 ],
 "metadata": {
  "kernelspec": {
   "display_name": "Python 3",
   "language": "python",
   "name": "python3"
  },
  "language_info": {
   "codemirror_mode": {
    "name": "ipython",
    "version": 3
   },
   "file_extension": ".py",
   "mimetype": "text/x-python",
   "name": "python",
   "nbconvert_exporter": "python",
   "pygments_lexer": "ipython3",
   "version": "3.7.6"
  }
 },
 "nbformat": 4,
 "nbformat_minor": 2
}
